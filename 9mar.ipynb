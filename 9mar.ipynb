{
 "cells": [
  {
   "cell_type": "code",
   "execution_count": 1,
   "id": "063a3f96-d618-4d3e-bce2-570d8445d99f",
   "metadata": {},
   "outputs": [
    {
     "data": {
      "text/plain": [
       "'Ans1: The probablity mass function is a type of probablity distribution function which defines the probablity distribution\\n        of a discrete data in a population of data. for example the when we roll a dice the probablity of each number which is\\n        fixed (1/6).\\n        \\n        The probablity density function is a type of probablity distribution function which defines the probablity distribution\\n        of a continuous data in a population of data. We can say that the probablity density function is the derivative of the \\n        cumulative density function, which is on the y axis of pdf. \\n        for example the weight of students in a class and there will be mean of the weight if we draw the distribution of probablity\\n        of the weights of the class then it will follow the pdf function.\\n    \\n        \\n'"
      ]
     },
     "execution_count": 1,
     "metadata": {},
     "output_type": "execute_result"
    }
   ],
   "source": [
    "'''Ans1: The probablity mass function is a type of probablity distribution function which defines the probablity distribution\n",
    "        of a discrete data in a population of data. for example the when we roll a dice the probablity of each number which is\n",
    "        fixed (1/6).\n",
    "        \n",
    "        The probablity density function is a type of probablity distribution function which defines the probablity distribution\n",
    "        of a continuous data in a population of data. We can say that the probablity density function is the derivative of the \n",
    "        cumulative density function, which is on the y axis of pdf. \n",
    "        for example the weight of students in a class and there will be mean of the weight if we draw the distribution of probablity\n",
    "        of the weights of the class then it will follow the pdf function.\n",
    "    \n",
    "        \n",
    "'''"
   ]
  },
  {
   "cell_type": "code",
   "execution_count": 2,
   "id": "41723f95-913b-4a27-aa78-d6a0a27278b6",
   "metadata": {},
   "outputs": [
    {
     "data": {
      "text/plain": [
       "'Ans2: The cumulative density function is a function which defines the cumulative sum of the distribution of the \\n        probablity. It has the probablity on y axis and the range of sum on x axis and it follows the s curve which \\n        defines the distribution of the probablity.\\n        for example the probablity of distribution of weights of the students can also be described through cdf function\\n        the the probablity of weight where the sum is 50% it is al the center of the curve and the sum is on x axis where\\n        probablity is on y axis as .5. The function gradient increase upto .5 then decrease when increase the cumulative sum.\\n        \\n        The cdf defines the pdf density function as the gradient of the curve of cdf is the density function of pdf.\\n        \\n        \\n'"
      ]
     },
     "execution_count": 2,
     "metadata": {},
     "output_type": "execute_result"
    }
   ],
   "source": [
    "'''Ans2: The cumulative density function is a function which defines the cumulative sum of the distribution of the \n",
    "        probablity. It has the probablity on y axis and the range of sum on x axis and it follows the s curve which \n",
    "        defines the distribution of the probablity.\n",
    "        for example the probablity of distribution of weights of the students can also be described through cdf function\n",
    "        the the probablity of weight where the sum is 50% it is al the center of the curve and the sum is on x axis where\n",
    "        probablity is on y axis as .5. The function gradient increase upto .5 then decrease when increase the cumulative sum.\n",
    "        \n",
    "        The cdf defines the pdf density function as the gradient of the curve of cdf is the density function of pdf.\n",
    "        \n",
    "        \n",
    "'''"
   ]
  },
  {
   "cell_type": "code",
   "execution_count": null,
   "id": "c5a04f4a-b2cb-410b-9b62-c4eae3a11300",
   "metadata": {},
   "outputs": [],
   "source": [
    "'''Ans3: Some of the situations whrer the normal distribution is applicable are:\n",
    "        \n",
    "        i. Given in a set of data where the mean, median, mode is same then the distribution it follow is normal distribution\n",
    "        ii. The situation where we didn't know that what type of distribution the dataset follow then we can use normal distribution.\n",
    "        iii. The distribution of the average of sample datasets will follow the normal distribution irrespective of its population\n",
    "            distribution.\n",
    "            \n",
    "        The perameters which defines the shape of the normal distribution are:\n",
    "        \n",
    "        i. mean: It defines the height of the normal distribution.\n",
    "        ii. variance: It define how much broad will be the distribution.\n",
    "        \n",
    "'''"
   ]
  },
  {
   "cell_type": "code",
   "execution_count": 1,
   "id": "86d0d7b1-01ec-4102-9793-d5aa3c222704",
   "metadata": {},
   "outputs": [
    {
     "data": {
      "text/plain": [
       "'Ans4: The normal distribution is important because the central limit theorem applicable on any type of distribution\\n        then the distribution is converted into the normal distribution.\\n\\n        Some of the Examples which follows the Normal distribution are:\\n        \\n        i. The height of people in a perticular area follows the normal distribution as there is same number of people\\n            with lesser height then average as taller then average.\\n        ii. The Age of people also follow the normal distribution as ther is same number of people with lesser age then\\n            the average one as the greater then average.\\n        iii. The performance of students in a class also follow the normal distribution as the students which is lesser\\n            then the average iq is same as the students with greater then average.\\n    \\n    \\n'"
      ]
     },
     "execution_count": 1,
     "metadata": {},
     "output_type": "execute_result"
    }
   ],
   "source": [
    "'''Ans4: The normal distribution is important because the central limit theorem applicable on any type of distribution\n",
    "        then the distribution is converted into the normal distribution.\n",
    "\n",
    "        Some of the Examples which follows the Normal distribution are:\n",
    "        \n",
    "        i. The height of people in a perticular area follows the normal distribution as there is same number of people\n",
    "            with lesser height then average as taller then average.\n",
    "        ii. The Age of people also follow the normal distribution as ther is same number of people with lesser age then\n",
    "            the average one as the greater then average.\n",
    "        iii. The performance of students in a class also follow the normal distribution as the students which is lesser\n",
    "            then the average iq is same as the students with greater then average.\n",
    "    \n",
    "    \n",
    "'''"
   ]
  },
  {
   "cell_type": "code",
   "execution_count": 2,
   "id": "b6f9d0d9-93fb-4810-96f4-7744b674a4d2",
   "metadata": {},
   "outputs": [
    {
     "data": {
      "text/plain": [
       "\"Ans5: The bernaulli distribution is a type of distribution which represents the probablity distribution of a discreate\\n        variable and the output is binary. In this type of distribution it takes 1 as probablity p and 0 as (1-p) as q.\\n        This type of distribution can be represented though probablity mass function.\\n        for example, When we toss a coin the coin has two outcomes, head and tail. Each have a probablity of .5 the probablity\\n        of this example can be represented through bernaulli distribution.\\n        \\n        The difference between the bernaulli and binomial distribution are:\\n        \\n        i. The bernaulli distribution is the special case of binomial distribution.\\n        ii. The bernaulli distribution is for the single event while the binomial distribution is for the 'n' number of\\n            repeated task.\\n\""
      ]
     },
     "execution_count": 2,
     "metadata": {},
     "output_type": "execute_result"
    }
   ],
   "source": [
    "'''Ans5: The bernaulli distribution is a type of distribution which represents the probablity distribution of a discreate\n",
    "        variable and the output is binary. In this type of distribution it takes 1 as probablity p and 0 as (1-p) as q.\n",
    "        This type of distribution can be represented though probablity mass function.\n",
    "        for example, When we toss a coin the coin has two outcomes, head and tail. Each have a probablity of .5 the probablity\n",
    "        of this example can be represented through bernaulli distribution.\n",
    "        \n",
    "        The difference between the bernaulli and binomial distribution are:\n",
    "        \n",
    "        i. The bernaulli distribution is the special case of binomial distribution.\n",
    "        ii. The bernaulli distribution is for the single event while the binomial distribution is for the 'n' number of\n",
    "            repeated task.\n",
    "'''"
   ]
  },
  {
   "cell_type": "code",
   "execution_count": null,
   "id": "b3741f00-98d9-4a0e-80b2-4e0a7707d0b2",
   "metadata": {},
   "outputs": [],
   "source": [
    "'''Ans6: Given,\n",
    "                mean=50\n",
    "                std=10\n",
    "                we know that,\n",
    "                               x-mean\n",
    "                            z= ------\n",
    "                                std\n",
    "                                \n",
    "                               60-50\n",
    "                            z= -----\n",
    "                                10\n",
    "                            z=1\n",
    "                \n",
    "                from z tabel reading=.8413\n",
    "                \n",
    "                area under the curve(>60)=1-.8413\n",
    "                \n",
    "                probablity=0.1587 or 15.87%\n",
    "'''"
   ]
  },
  {
   "cell_type": "code",
   "execution_count": 3,
   "id": "2e3995b8-6a07-4ad0-89db-5a1ed18cfb6b",
   "metadata": {},
   "outputs": [
    {
     "data": {
      "text/plain": [
       "'Ans7: The uniform distribution is the distibution which lies between certin limits of range i.e. the value of probablity\\n        is always in between certain values. \\n        for example the sales of a company is in between 10 millions to 40 millions.\\n        \\n        This type of distribution is of two type:\\n        i. continuous uniform distribution\\n        ii. discreate uniform distribution\\n\\n'"
      ]
     },
     "execution_count": 3,
     "metadata": {},
     "output_type": "execute_result"
    }
   ],
   "source": [
    "'''Ans7: The uniform distribution is the distibution which lies between certin limits of range i.e. the value of probablity\n",
    "        is always in between certain values. \n",
    "        for example the sales of a company is in between 10 millions to 40 millions.\n",
    "        \n",
    "        This type of distribution is of two type:\n",
    "        i. continuous uniform distribution\n",
    "        ii. discreate uniform distribution\n",
    "\n",
    "'''"
   ]
  },
  {
   "cell_type": "code",
   "execution_count": 4,
   "id": "bd4e6031-db56-434b-b45c-80d730592ab7",
   "metadata": {},
   "outputs": [
    {
     "data": {
      "text/plain": [
       "'Ans8: z score is the value which represents that for a perticular instance of the varible how much far it is from\\n        population mean. It can be negative or positive depends upon the direction from the mean, if instance is on\\n        left then the z score is negative. If the instance is on right side then the z score is positive.\\n        \\n        The z score is important because it is helpful in finding the probablity without using the event evaluation\\n        it can simply give the value of probablity by using the area under the curve with the help of z table.\\n'"
      ]
     },
     "execution_count": 4,
     "metadata": {},
     "output_type": "execute_result"
    }
   ],
   "source": [
    "'''Ans8: z score is the value which represents that for a perticular instance of the varible how much far it is from\n",
    "        population mean. It can be negative or positive depends upon the direction from the mean, if instance is on\n",
    "        left then the z score is negative. If the instance is on right side then the z score is positive.\n",
    "        \n",
    "        The z score is important because it is helpful in finding the probablity without using the event evaluation\n",
    "        it can simply give the value of probablity by using the area under the curve with the help of z table.\n",
    "'''"
   ]
  },
  {
   "cell_type": "code",
   "execution_count": 5,
   "id": "449e9a5e-e38d-46d0-94f8-0fc0bc38661f",
   "metadata": {},
   "outputs": [
    {
     "data": {
      "text/plain": [
       "'Ans9: The central limit theorem state that if any event follow any of the distributions if we take the sample from\\n        the population probablity and calculate the mean of each sample probablity and plot on a graph then the \\n        graph will follow the normal distribution irrespective of the type of population distribution.\\n        \\n         It is important because it allows probability statements to be made about the mean even if the distribution\\n         of the raw data is unknown.\\n'"
      ]
     },
     "execution_count": 5,
     "metadata": {},
     "output_type": "execute_result"
    }
   ],
   "source": [
    "'''Ans9: The central limit theorem state that if any event follow any of the distributions if we take the sample from\n",
    "        the population probablity and calculate the mean of each sample probablity and plot on a graph then the \n",
    "        graph will follow the normal distribution irrespective of the type of population distribution.\n",
    "        \n",
    "         It is important because it allows probability statements to be made about the mean even if the distribution\n",
    "         of the raw data is unknown.\n",
    "'''"
   ]
  },
  {
   "cell_type": "code",
   "execution_count": null,
   "id": "5c16cbbd-8076-48ab-b721-301d9bf250f2",
   "metadata": {},
   "outputs": [],
   "source": [
    "''' Ans10: The assumptions of central limit theorem are:\n",
    "          \n",
    "          i. The sample size must be large enough at least more then 30 for effective working of central limit theorem.\n",
    "          ii. The sample should be unrealeted i.e. the one sample should not affect the other.\n",
    "          iii. The sampling should be random.\n",
    "          iv. When taking samples without replacement, the sample size should not exceed 10% of the population.\n",
    "'''"
   ]
  }
 ],
 "metadata": {
  "kernelspec": {
   "display_name": "Python 3 (ipykernel)",
   "language": "python",
   "name": "python3"
  },
  "language_info": {
   "codemirror_mode": {
    "name": "ipython",
    "version": 3
   },
   "file_extension": ".py",
   "mimetype": "text/x-python",
   "name": "python",
   "nbconvert_exporter": "python",
   "pygments_lexer": "ipython3",
   "version": "3.10.8"
  }
 },
 "nbformat": 4,
 "nbformat_minor": 5
}
